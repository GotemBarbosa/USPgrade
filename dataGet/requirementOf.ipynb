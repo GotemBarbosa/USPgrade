{
 "cells": [
  {
   "cell_type": "code",
   "execution_count": 35,
   "metadata": {},
   "outputs": [],
   "source": [
    "import json"
   ]
  },
  {
   "cell_type": "code",
   "execution_count": 36,
   "metadata": {},
   "outputs": [],
   "source": [
    "fp = open('output.json')\n",
    "Subjectlist = json.load(fp)"
   ]
  },
  {
   "cell_type": "code",
   "execution_count": 37,
   "metadata": {},
   "outputs": [],
   "source": [
    "# Itero por todas as matérias\n",
    "for mainSubject in Subjectlist:\n",
    "    dependencies = []\n",
    "    \n",
    "    # Registro todas as dependencias em dependencies\n",
    "    for virtualDependency in mainSubject['LinkWith']['Requirements']:\n",
    "        dependencies.append({\n",
    "                \"Code\" : virtualDependency['Subject'].split()[0],\n",
    "                \"type\" : virtualDependency['type'],\n",
    "                \"Dict\" : None\n",
    "            })\n",
    "\n",
    "    # Acho as dependencias no SubjectList e coloca na parte Dict delas\n",
    "    for dependency in dependencies:\n",
    "        for possibleSubject in Subjectlist:\n",
    "            if possibleSubject['Code'] == dependency['Code']:\n",
    "                dependency['Dict'] = possibleSubject\n",
    "\n",
    "\n",
    "    # Registro no Dict que a matéria é dependencia da mainSubject\n",
    "    for dependecy in dependencies:\n",
    "        if dependecy['Dict'] == None: continue\n",
    "\n",
    "        dependency['Dict']['LinkWith']['RequirementOf'].append({\n",
    "                \"Subject\": f\"{mainSubject['Code']} - {mainSubject['Subject']}\",\n",
    "                \"Link\": mainSubject['Link'],\n",
    "                \"type\": dependency['type']\n",
    "            })\n"
   ]
  },
  {
   "cell_type": "code",
   "execution_count": 38,
   "metadata": {},
   "outputs": [
    {
     "name": "stdout",
     "output_type": "stream",
     "text": [
      "{'Subject': 'Cálculo I', 'Code': 'SMA0353', 'Course': 'Ciência da Computação', 'Type': 'Disciplinas Obrigatórias', 'Link': None, 'Semester': '1º Semestre Ideal', 'Institute': 'Instituto de Ciências Matemáticas e de Computação - ( ICMC )', 'Credits': {'Class': '4', 'Work': '0', 'Total': '60'}, 'About': {'Goal': 'Visa familiarizar os alunos com a geometria analítica no plano e no espaço, com ênfase nos seus aspectos geométricos e suas traduções em coordenadas cartesianas', 'Summary': 'Sistemas de coordenadas. Retas e planos. Cônicas. Quádricas', 'Program': 'O conjunto dos números reais. Funções Reais de uma variável. Composição de funções. Limites. Continuidade. Diferenciabilidade. Derivação de uma composição.  Taxas relacionadas. Máximos e mínimos. Gráficos. Diferencial. Fórmula de Taylor. Primitivas.'}, 'LinkWith': {'Requirements': [], 'RequirementOf': [{'Subject': '7600105 - Física Básica I', 'Link': None, 'type': 'Requisito fraco'}, {'Subject': 'SMA0354 - Cálculo II', 'Link': None, 'type': 'Requisito fraco'}, {'Subject': 'SMA0392 - Cálculo I (semipresencial)', 'Link': None, 'type': 'Requisito fraco'}], 'Recomendations': []}}\n"
     ]
    }
   ],
   "source": [
    "# Checar RequirementOf de cálculo 1\n",
    "print(Subjectlist[4])"
   ]
  },
  {
   "cell_type": "code",
   "execution_count": 39,
   "metadata": {},
   "outputs": [],
   "source": [
    "#converter lista gerada para json e salvar em um arquivo\n",
    "with open('output_with_requirementOf.json', 'w', encoding='utf8') as f:\n",
    "    json.dump(Subjectlist, f, ensure_ascii=False,indent=2)"
   ]
  }
 ],
 "metadata": {
  "kernelspec": {
   "display_name": "Python 3",
   "language": "python",
   "name": "python3"
  },
  "language_info": {
   "codemirror_mode": {
    "name": "ipython",
    "version": 3
   },
   "file_extension": ".py",
   "mimetype": "text/x-python",
   "name": "python",
   "nbconvert_exporter": "python",
   "pygments_lexer": "ipython3",
   "version": "3.11.6"
  }
 },
 "nbformat": 4,
 "nbformat_minor": 2
}
