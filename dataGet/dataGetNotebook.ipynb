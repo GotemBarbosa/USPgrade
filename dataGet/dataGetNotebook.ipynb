{
 "cells": [
  {
   "cell_type": "markdown",
   "metadata": {},
   "source": [
    "# DataGet da USP\n",
    "\n",
    "* utiliza selenium para pegar os dados obtidos das materias do curso de Ciencias de Computacao obtidos no site JupiterWeb, para pegar os dados uma serie de acoes precisam ser feitas, e esse script realiza isso, caso necessite do scrip fora do notebook do jupyter, abra ```main.py```\n",
    "\n",
    "* O script segue uma serie de passo e acessa elementos html de acordo com o formato do site jupiterweb, para mais detalhes do site e compreender como o algoritmo atua, acesse o site em ```link``` abaixo.\n",
    "  \n",
    "* Aqui estou utilizando o Microsoft-edge e seu driver como navegador para atuacao do selenium, certifique-se de ter o mesmo navegador ou altere para o desejado, referenciando o driver do navegador e o diretorio para o executavel do seu navegador. "
   ]
  },
  {
   "cell_type": "markdown",
   "metadata": {},
   "source": [
    "### Importacoes"
   ]
  },
  {
   "cell_type": "code",
   "execution_count": 1,
   "metadata": {},
   "outputs": [],
   "source": [
    "from selenium import webdriver\n",
    "from selenium.webdriver.edge.service import Service\n",
    "from selenium.webdriver.edge.options import Options\n",
    "from selenium.webdriver.support.ui import Select\n",
    "from selenium.webdriver.support.ui import WebDriverWait\n",
    "from selenium.webdriver.support import expected_conditions\n",
    "from selenium.webdriver.common.by import By\n",
    "import time\n",
    "import json\n",
    "\n"
   ]
  },
  {
   "cell_type": "markdown",
   "metadata": {},
   "source": [
    "### Classe auxiliar:"
   ]
  },
  {
   "cell_type": "code",
   "execution_count": 2,
   "metadata": {},
   "outputs": [],
   "source": [
    "\n",
    "class element_has_content(object):\n",
    "  def __init__(self, locator):\n",
    "    self.locator = locator\n",
    "\n",
    "  def __call__(self, driver):\n",
    "    element = driver.find_element(*self.locator)   # Encontrar o elemento referido\n",
    "    if element.text != \"\":\n",
    "      return element\n",
    "    else:\n",
    "      return False\n"
   ]
  },
  {
   "cell_type": "markdown",
   "metadata": {},
   "source": [
    "### Configuracoes do navegador:\n",
    "\n",
    "* No linux: ```sudo find / -name microsoft-edge```, pode te ajudar a achar a localizacao do binario"
   ]
  },
  {
   "cell_type": "code",
   "execution_count": 6,
   "metadata": {},
   "outputs": [],
   "source": [
    "#Local do binário do navegador Edge\n",
    "options = Options()\n",
    "options.binary_location = \"/var/lib/flatpak/app/com.microsoft.Edge/x86_64/stable/dc70ef8922e1b20d5e951c8e185ccb15f940089a4e79589adea7a4d64682b881/files/extra/microsoft-edge\"\n",
    "driver_path=\"./msedgedriver\""
   ]
  },
  {
   "cell_type": "markdown",
   "metadata": {},
   "source": [
    "### Abertura do navegador:"
   ]
  },
  {
   "cell_type": "code",
   "execution_count": 7,
   "metadata": {},
   "outputs": [],
   "source": [
    "# Inicie o navegador Edge\n",
    "driver = webdriver.Edge(service=Service(driver_path), options=options)\n",
    "\n",
    "link = \"https://uspdigital.usp.br/jupiterweb/jupCarreira.jsp?codmnu=8275\" # link da informacoes de diciplinas usp\n",
    "driver.get(link)"
   ]
  },
  {
   "cell_type": "markdown",
   "metadata": {},
   "source": [
    "### Configurando a pagina para estar no estado desejado:\n",
    "\n",
    "* preenchendo formularios necessarios, para que os dados estejam devidamente na pagina"
   ]
  },
  {
   "cell_type": "code",
   "execution_count": 8,
   "metadata": {},
   "outputs": [],
   "source": [
    "\n",
    "#Preenchimento de formulario para ter as informacoes depois:\n",
    "unidade = WebDriverWait(driver, 20).until(expected_conditions.presence_of_element_located((By.ID, 'comboUnidade')))\n",
    "selectUnidade = Select(unidade)\n",
    "selectUnidade.select_by_visible_text(\"Instituto de Ciências Matemáticas e de Computação - ( ICMC )\")\n",
    "\n",
    "#Depois precisa esperar que o campO Option esteja carregado para eu poder seleciona-lo\n",
    "WebDriverWait(driver, 20).until(expected_conditions.element_to_be_clickable((By.CSS_SELECTOR, \"#comboCurso option\")))\n",
    "curso = driver.find_element(By.ID,'comboCurso')\n",
    "selectCurso = Select(curso)\n",
    "selectCurso.select_by_visible_text(\"Bacharelado em Ciências de Computação - integral\")\n",
    "\n",
    "botaoEnviar = driver.find_element(By.ID,\"enviar\")\n",
    "botaoEnviar.click();\n",
    " \n",
    "#esperar a guia superior ficar disponivel\n",
    "time.sleep(5);\n",
    "botaoGradeCurricular = driver.find_element(By.ID, 'step4-tab')\n",
    "botaoGradeCurricular.click()"
   ]
  },
  {
   "cell_type": "markdown",
   "metadata": {},
   "source": [
    "### Conseguindo os dados primarios"
   ]
  },
  {
   "cell_type": "code",
   "execution_count": 15,
   "metadata": {},
   "outputs": [],
   "source": [
    "# Encontre todas as tabelas dentro do div com id=gradeCurricular\n",
    "tables = driver.find_elements(By.CSS_SELECTOR, \"#gradeCurricular table\")\n",
    "Subjectlist = []; #lista das materias\n",
    "\n",
    "# valores que serao os mesmos para todos\n",
    "course = \"Ciência da Computação\"\n",
    "institute = \"Instituto de Ciências Matemáticas e de Computação - ( ICMC )\"\n",
    "\n",
    "for table in tables:\n",
    "    #extrair as linhas da tabela\n",
    "    rows = table.find_elements(By.TAG_NAME, \"tr\")\n",
    "\n",
    "\n",
    "    #Na primeira linha de cada materia temos o tipo de obrigatoriedade da cada materia\n",
    "    subjectType = rows[0].find_elements(By.TAG_NAME, \"td\")[0].text\n",
    "\n",
    "\n",
    "    #iterar sobre as linhas e extrair as células\n",
    "    for row in rows[1:]:\n",
    "\n",
    "        #objeto que vai ser adicionado na lista de materias (seguindo o padrao do dataModel.json )\n",
    "        subject = {\n",
    "            \"Subject\": None,\n",
    "            \"Code\": None,\n",
    "            \"Course\": None,\n",
    "            \"Type\": None,\n",
    "            \"Link\": None,\n",
    "            \"Semester\": None,\n",
    "            \"Institute\": None,\n",
    "            \"Credits\":{\n",
    "                \"Class\": None,\n",
    "                \"Work\": None,\n",
    "                \"Total\": None\n",
    "            },\n",
    "            \"About\":{\n",
    "                \"Goal\": None,\n",
    "                \"Summary\": None,\n",
    "                \"Program\": None,\n",
    "            },\n",
    "            \"LinkWith\":{\n",
    "                \"Requirements\":[],\n",
    "                \"RequirementOf\":[],\n",
    "                \"Recomendations\":[]\n",
    "            }\n",
    "        }\n",
    "        #extrair as celulas da linha\n",
    "        cells = row.find_elements(By.TAG_NAME, \"td\")\n",
    "\n",
    "        #Se a linha tiver esse estilo, significa que ela representa um semestre\n",
    "        if(row.get_attribute(\"style\") == \"background-color: rgb(204, 204, 204);\"):\n",
    "            semester = cells[0].text\n",
    "        else:\n",
    "            #Se a linha tiver esse estilo, significa que a linha represente um requisito ou recomendacao de uma materia anterior \n",
    "            if(cells[0].get_attribute(\"style\") == \"padding-left: 25px;\"):\n",
    "                if(cells[1].text == \"Indicação de conjunto\"):\n",
    "                    #objeto recomendation\n",
    "                    recomendation = {\n",
    "                        \"Code\": None,\n",
    "                        \"Subject\": None,\n",
    "                        \"Link\": None,\n",
    "                    }\n",
    "                    code = cells[0].text.split(' ')[0]\n",
    "                    recomendation[\"Link\"] = f\"https://uspdigital.usp.br/jupiterweb/obterDisciplina?sgldis={code}&verdis=1\"\n",
    "                    recomendation[\"Code\"] = code\n",
    "                    recomendation[\"Subject\"] = ' '.join(cells[0].text.split(' ')[2:])\n",
    "\n",
    "                    \n",
    "                    Subjectlist[-1][\"LinkWith\"][\"Recomendations\"].append(recomendation)\n",
    "\n",
    "                else:\n",
    "                    #objeto requirement que vai ser adicionado na lista de requisitos da materia anterior (seguindo o padrao do dataModel.json )\n",
    "                    requirement = {\n",
    "                        \"Code\": None,\n",
    "                        \"Subject\": None,\n",
    "                        \"Link\": None,\n",
    "                        \"type\": None\n",
    "                    }\n",
    "                    \n",
    "                    code = cells[0].text.split(' ')[0]\n",
    "                    requirement[\"Code\"] = code\n",
    "                    requirement[\"Subject\"] = ' '.join(cells[0].text.split(' ')[2:])\n",
    "                    requirement[\"Link\"] = f\"https://uspdigital.usp.br/jupiterweb/obterDisciplina?sgldis={code}&verdis=1\"\n",
    "                    requirement[\"type\"] = cells[1].text\n",
    "                    Subjectlist[-1][\"LinkWith\"][\"Requirements\"].append(requirement)\n",
    "            else:\n",
    "\n",
    "            #Nova materia\n",
    "                code = cells[0].text\n",
    "                name = cells[1].text \n",
    "                creditClass = cells[2].text\n",
    "                creditWork = cells[3].text if len(cells) > 3 else None\n",
    "                classHours = cells[4].text if len(cells) > 4 else None\n",
    "                ce = cells[5].text if len(cells) > 5 else None # nao usada\n",
    "                cp = cells[6].text if len(cells) > 6 else None #nao usada\n",
    "                atpa = cells[7].text if len(cells) > 7 else None #nao usada\n",
    "\n",
    "\n",
    "                subject[\"Subject\"] = name\n",
    "                subject[\"Code\"] = code\n",
    "                subject[\"Course\"] = course\n",
    "                subject[\"Institute\"] = institute\n",
    "                subject[\"Type\"] = subjectType\n",
    "                subject[\"Semester\"] = semester\n",
    "                subject[\"Link\"] = f\"https://uspdigital.usp.br/jupiterweb/obterDisciplina?sgldis={code}&verdis=1\"\n",
    "                subject[\"Credits\"][\"Class\"] = creditClass\n",
    "                subject[\"Credits\"][\"Work\"] = creditWork\n",
    "                subject[\"Credits\"][\"Total\"] = classHours\n",
    "                \n",
    "                #abrir o dialog que contem as informacoes da materia ao clicar no codigo da materia\n",
    "                link = cells[0].find_element(By.TAG_NAME, \"a\")\n",
    "                driver.execute_script(\"arguments[0].scrollIntoView({block: 'center'});\", link)\n",
    "                link.click()\n",
    "                \n",
    "                #pegar as informacoes contidas no dialog\n",
    "                dialog = WebDriverWait(driver, 20).until(expected_conditions.presence_of_element_located((By.ID, 'disciplinaDialog')))\n",
    "                goal = dialog.find_element(By.CLASS_NAME, 'objetivos').get_attribute('innerHTML')\n",
    "                summary = dialog.find_element(By.CLASS_NAME, 'programaResumido').get_attribute('innerHTML')\n",
    "                program = dialog.find_element(By.CLASS_NAME, 'programa').get_attribute('innerHTML')\n",
    "                \n",
    "                subject[\"About\"][\"Goal\"] = goal\n",
    "                subject[\"About\"][\"Summary\"] = summary\n",
    "                subject[\"About\"][\"Program\"] = program\n",
    "\n",
    "                # fechar o dialog\n",
    "                closeLink = WebDriverWait(driver, 20).until(expected_conditions.element_to_be_clickable((By.CSS_SELECTOR, 'a[role=\"button\"]')))\n",
    "                closeLink.click()\n",
    "                WebDriverWait(driver, 0.5)\n",
    "                \n",
    "                #Adicionar a nova materia na lista de materias\n",
    "                Subjectlist.append(subject)"
   ]
  },
  {
   "cell_type": "markdown",
   "metadata": {},
   "source": [
    "### Adicionando de que materia alguma é requisito:"
   ]
  },
  {
   "cell_type": "code",
   "execution_count": 16,
   "metadata": {},
   "outputs": [],
   "source": [
    "# Itero por todas as matérias\n",
    "for mainSubject in Subjectlist:\n",
    "    dependencies = []\n",
    "    \n",
    "    # Registro todas as dependencias em dependencies\n",
    "    for virtualDependency in mainSubject['LinkWith']['Requirements']:\n",
    "        dependencies.append({\n",
    "                \"Code\" : virtualDependency['Code'],\n",
    "                \"type\" : virtualDependency['type'],\n",
    "                \"Dict\" : None\n",
    "            })\n",
    "\n",
    "    # Acho as dependencias no SubjectList e coloca na parte Dict delas\n",
    "    for dependency in dependencies:\n",
    "        for possibleSubject in Subjectlist:\n",
    "            if possibleSubject['Code'] == dependency['Code']:\n",
    "                dependency['Dict'] = possibleSubject\n",
    "\n",
    "\n",
    "    # Registro no Dict que a matéria é dependencia da mainSubject\n",
    "    for dependecy in dependencies:\n",
    "        if dependecy['Dict'] == None: continue\n",
    "\n",
    "        dependency['Dict']['LinkWith']['RequirementOf'].append({\n",
    "                \"Code\": mainSubject['Code'],\n",
    "                \"Subject\":  mainSubject['Subject'],\n",
    "                \"Link\": mainSubject['Link'],\n",
    "                \"type\": dependency['type'],\n",
    "            })\n"
   ]
  },
  {
   "cell_type": "markdown",
   "metadata": {},
   "source": [
    "### Salvar o arquivo:"
   ]
  },
  {
   "cell_type": "code",
   "execution_count": 17,
   "metadata": {},
   "outputs": [],
   "source": [
    "#converter lista gerada para json e salvar em um arquivo\n",
    "with open('output.json', 'w', encoding='utf8') as f:\n",
    "    json.dump(Subjectlist, f, ensure_ascii=False)"
   ]
  }
 ],
 "metadata": {
  "kernelspec": {
   "display_name": "Python 3",
   "language": "python",
   "name": "python3"
  },
  "language_info": {
   "codemirror_mode": {
    "name": "ipython",
    "version": 3
   },
   "file_extension": ".py",
   "mimetype": "text/x-python",
   "name": "python",
   "nbconvert_exporter": "python",
   "pygments_lexer": "ipython3",
   "version": "3.8.10"
  }
 },
 "nbformat": 4,
 "nbformat_minor": 2
}
